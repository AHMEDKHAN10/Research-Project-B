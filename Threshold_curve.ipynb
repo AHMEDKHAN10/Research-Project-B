{
  "nbformat": 4,
  "nbformat_minor": 0,
  "metadata": {
    "colab": {
      "name": "ROC_curve.ipynb",
      "provenance": [],
      "collapsed_sections": []
    },
    "kernelspec": {
      "name": "python3",
      "display_name": "Python 3"
    }
  },
  "cells": [
    {
      "cell_type": "markdown",
      "metadata": {
        "id": "oPUuSjJ96Au-"
      },
      "source": [
        "# **Machine Learning in Python: Possible extension related to uncertainties**\n",
        "\n",
        "Using threshy we are going to learn how optimal threshold in \n",
        "the classificaton of the value of the threshold and choose the optimal amount of classification. \n",
        "The threshy provides the option to change the value of threshold and select the optimal amount for the classification. \n",
        "In this Jupyter notebook, we will focus on tthe Possible extension related to the uncertainities using the Iris data set as an example."
      ]
    },
    {
      "cell_type": "markdown",
      "metadata": {
        "id": "_SJy5TKvuF9s"
      },
      "source": [
        "## **What is main Focus and Objective?**\n",
        "\n",
        "Our focus will be on the Binary Classification where we will come up with the ROC Curves. The **ROC curve** summarizes the prediction performance of the binary classification model at all classification thresholds. Particularly, the ROC curve plots the **False Positive Rate (FPR)** on the *X-axis* and the **True Positive Rate (TPR)** on the *Y-axis*.\n",
        "\n",
        "$\\text{TPR (Accuracy)} = \\frac{TP + TN}{N}$\n",
        "\n",
        "At this point the TP holds the value 1 and the modal is assigned it the value 1. \n",
        "The TN Value holds the value 0 and the modal assigned the value 0. \n",
        "We will also consider the fact the problem of the binary classification has a threshold value of 0.5. This means that the any value which is more than 0.5 will be assigned 1 and less than 0.5 will be assigned 0, but this creates the problme of its one since the values does not give us the optimal accuracy to do that. \n",
        "For us to achieve our goal we will have to optimally increase TP and decrease FN. This is because decreasing FN automatically will increase TN. Therefore TN is a false negative. This will therefore be expressed in our curve. \n"
      ]
    },
    {
      "cell_type": "markdown",
      "metadata": {
        "id": "KwebBKbP3Vsx"
      },
      "source": [
        "## **Generation of the synthetic dataset**\n",
        "The dataset was for an Iris images downloaded from Kaggle.com as from the following link: https://www.kaggle.com/uciml/iris"
      ]
    },
    {
      "cell_type": "code",
      "metadata": {
        "id": "ECJbWdcw5JMu"
      },
      "source": [
        "from sklearn.datasets import make_classification\n",
        "import numpy as np"
      ],
      "execution_count": null,
      "outputs": []
    },
    {
      "cell_type": "code",
      "metadata": {
        "id": "Wl9Gu5Ba1d1X"
      },
      "source": [
        "X, Y = make_classification(n_samples=2000, n_classes=2, n_features=10, random_state=0)"
      ],
      "execution_count": 17,
      "outputs": []
    },
    {
      "cell_type": "markdown",
      "metadata": {
        "id": "eqZsiSMtrdm9"
      },
      "source": [
        "## **Creation of the Noisy Features** $^1$\n"
      ]
    },
    {
      "cell_type": "code",
      "metadata": {
        "id": "r9otz_41rPXH"
      },
      "source": [
        "random_state = np.random.RandomState(0)\n",
        "n_samples, n_features = X.shape\n",
        "X = np.c_[X, random_state.randn(n_samples, 200 * n_features)]"
      ],
      "execution_count": 18,
      "outputs": []
    },
    {
      "cell_type": "markdown",
      "metadata": {
        "id": "nAw93CgK4178"
      },
      "source": [
        "## **Training and Splitting of the dataset.**"
      ]
    },
    {
      "cell_type": "code",
      "metadata": {
        "id": "NRmlzFOA4x9Z"
      },
      "source": [
        "from sklearn.model_selection import train_test_split"
      ],
      "execution_count": 19,
      "outputs": []
    },
    {
      "cell_type": "code",
      "metadata": {
        "id": "yTep82KV9axn"
      },
      "source": [
        "X_train, X_test, Y_train, Y_test = train_test_split(X, Y, test_size=.2,\n",
        "                                                    random_state=0)"
      ],
      "execution_count": 20,
      "outputs": []
    },
    {
      "cell_type": "markdown",
      "metadata": {
        "id": "V_MvToES4n_A"
      },
      "source": [
        "## **Building the Binary classification model**\n",
        "The Model was created using the RandomForest Classifier"
      ]
    },
    {
      "cell_type": "code",
      "metadata": {
        "id": "Fo9Xk5T94v6j"
      },
      "source": [
        "from sklearn.ensemble import RandomForestClassifier\n",
        "from sklearn.naive_bayes import GaussianNB"
      ],
      "execution_count": null,
      "outputs": []
    },
    {
      "cell_type": "markdown",
      "metadata": {
        "id": "0C3NRujmed_j"
      },
      "source": [
        "### Binary Classification using the Random Forest"
      ]
    },
    {
      "cell_type": "code",
      "metadata": {
        "id": "5WQ8UFXe9Zmx",
        "outputId": "28b59ebc-94f9-470d-e64c-f039ad1357ee",
        "colab": {
          "base_uri": "https://localhost:8080/"
        }
      },
      "source": [
        "rf = RandomForestClassifier(max_features=5, n_estimators=500)\n",
        "rf.fit(X_train, Y_train)"
      ],
      "execution_count": 21,
      "outputs": [
        {
          "output_type": "execute_result",
          "data": {
            "text/plain": [
              "RandomForestClassifier(max_features=5, n_estimators=500)"
            ]
          },
          "metadata": {},
          "execution_count": 21
        }
      ]
    },
    {
      "cell_type": "markdown",
      "metadata": {
        "id": "Aw_Ax0cne2BC"
      },
      "source": [
        "### Naive Bayes"
      ]
    },
    {
      "cell_type": "code",
      "metadata": {
        "id": "nxmFVCs-e9Mz",
        "outputId": "316b0baa-6503-4c07-8f6b-dfe234d7fd22",
        "colab": {
          "base_uri": "https://localhost:8080/"
        }
      },
      "source": [
        "nb = GaussianNB()\n",
        "nb.fit(X_train, Y_train)"
      ],
      "execution_count": null,
      "outputs": [
        {
          "output_type": "execute_result",
          "data": {
            "text/plain": [
              "GaussianNB()"
            ]
          },
          "metadata": {},
          "execution_count": 8
        }
      ]
    },
    {
      "cell_type": "markdown",
      "metadata": {
        "id": "hl_hDOsvDmyV"
      },
      "source": [
        "## **Computation of the Prediction probabilities** $^2$"
      ]
    },
    {
      "cell_type": "code",
      "metadata": {
        "id": "jVkSSnnGCQ0O"
      },
      "source": [
        "r_probs = [0 for _ in range(len(Y_test))]\n",
        "rf_probs = rf.predict_proba(X_test)\n",
        "nb_probs = nb.predict_proba(X_test)"
      ],
      "execution_count": null,
      "outputs": []
    },
    {
      "cell_type": "markdown",
      "metadata": {
        "id": "GNha6VVeDsyb"
      },
      "source": [
        "Probabilities for the positive outcome is kept."
      ]
    },
    {
      "cell_type": "code",
      "metadata": {
        "id": "a4j8EtvZCdF8",
        "colab": {
          "base_uri": "https://localhost:8080/",
          "height": 183
        },
        "outputId": "8d2bdb4c-0ff9-4994-b618-6875ba930d6d"
      },
      "source": [
        "rf_probs = rf_probs[:, 1]\n",
        "nb_probs = nb_probs[:, 1]"
      ],
      "execution_count": 36,
      "outputs": [
        {
          "output_type": "error",
          "ename": "IndexError",
          "evalue": "ignored",
          "traceback": [
            "\u001b[0;31m---------------------------------------------------------------------------\u001b[0m",
            "\u001b[0;31mIndexError\u001b[0m                                Traceback (most recent call last)",
            "\u001b[0;32m<ipython-input-36-a3d3baf386c3>\u001b[0m in \u001b[0;36m<module>\u001b[0;34m()\u001b[0m\n\u001b[0;32m----> 1\u001b[0;31m \u001b[0mrf_probs\u001b[0m \u001b[0;34m=\u001b[0m \u001b[0mrf_probs\u001b[0m\u001b[0;34m[\u001b[0m\u001b[0;34m:\u001b[0m\u001b[0;34m,\u001b[0m \u001b[0;36m1\u001b[0m\u001b[0;34m]\u001b[0m\u001b[0;34m\u001b[0m\u001b[0;34m\u001b[0m\u001b[0m\n\u001b[0m\u001b[1;32m      2\u001b[0m \u001b[0mnb_probs\u001b[0m \u001b[0;34m=\u001b[0m \u001b[0mnb_probs\u001b[0m\u001b[0;34m[\u001b[0m\u001b[0;34m:\u001b[0m\u001b[0;34m,\u001b[0m \u001b[0;36m1\u001b[0m\u001b[0;34m]\u001b[0m\u001b[0;34m\u001b[0m\u001b[0;34m\u001b[0m\u001b[0m\n",
            "\u001b[0;31mIndexError\u001b[0m: too many indices for array: array is 1-dimensional, but 2 were indexed"
          ]
        }
      ]
    },
    {
      "cell_type": "markdown",
      "metadata": {
        "id": "rf9gjJcb4i0e"
      },
      "source": [
        "## **Computation of the curve values**"
      ]
    },
    {
      "cell_type": "code",
      "metadata": {
        "id": "cSfzTGWn4lXe"
      },
      "source": [
        "from sklearn.metrics import roc_curve, roc_auc_score"
      ],
      "execution_count": null,
      "outputs": []
    },
    {
      "cell_type": "markdown",
      "metadata": {
        "id": "gpr5ON6QC7ip"
      },
      "source": [
        "### **Calculate AUROC (AU-Area Under the ROC Curve)**"
      ]
    },
    {
      "cell_type": "code",
      "metadata": {
        "id": "yVwjOC6XC5lw"
      },
      "source": [
        "r_auc = roc_auc_score(Y_test, r_probs)\n",
        "rf_auc = roc_auc_score(Y_test, rf_probs)\n",
        "nb_auc = roc_auc_score(Y_test, nb_probs)"
      ],
      "execution_count": 23,
      "outputs": []
    },
    {
      "cell_type": "markdown",
      "metadata": {
        "id": "TIzyhgstDMqw"
      },
      "source": [
        "### **Print AUROC scores**"
      ]
    },
    {
      "cell_type": "code",
      "metadata": {
        "id": "lUvZ8_BbC5uf",
        "outputId": "47913f80-02ca-46f5-d329-0e9768c68ad4",
        "colab": {
          "base_uri": "https://localhost:8080/"
        }
      },
      "source": [
        "print('Random (chance) Prediction: AUROC = %.5f' % (r_auc))\n",
        "print('Random Forest: AUROC = %.5f' % (rf_auc))\n",
        "print('Naive Bayes: AUROC = %.5f' % (nb_auc))"
      ],
      "execution_count": 37,
      "outputs": [
        {
          "output_type": "stream",
          "name": "stdout",
          "text": [
            "Random (chance) Prediction: AUROC = 0.50000\n",
            "Random Forest: AUROC = 0.94081\n",
            "Naive Bayes: AUROC = 0.99324\n"
          ]
        }
      ]
    },
    {
      "cell_type": "markdown",
      "metadata": {
        "id": "7AsuB3AQE5FC"
      },
      "source": [
        "### **Calculate ROC curve**"
      ]
    },
    {
      "cell_type": "code",
      "metadata": {
        "id": "lApmrHMp9YDb"
      },
      "source": [
        "r_fpr, r_tpr, _ = roc_curve(Y_test, r_probs)\n",
        "rf_fpr, rf_tpr, _ = roc_curve(Y_test, rf_probs)\n",
        "nb_fpr, nb_tpr, _ = roc_curve(Y_test, nb_probs)"
      ],
      "execution_count": null,
      "outputs": []
    },
    {
      "cell_type": "markdown",
      "metadata": {
        "id": "tXpx2YMM4Gsb"
      },
      "source": [
        "## **Plot the ROC curve**"
      ]
    },
    {
      "cell_type": "code",
      "metadata": {
        "id": "oL96kXed4MvL"
      },
      "source": [
        "import matplotlib.pyplot as plt"
      ],
      "execution_count": null,
      "outputs": []
    },
    {
      "cell_type": "code",
      "metadata": {
        "id": "v2Q6p9qmFVxB",
        "outputId": "687ef4cc-2d6c-4685-a9fc-003e4ecc26a4",
        "colab": {
          "base_uri": "https://localhost:8080/",
          "height": 295
        }
      },
      "source": [
        "\n",
        "plt.plot(rf_fpr, rf_tpr, marker='.', label='Extenstion of the ROC Plot (P = 0.468)' % rf_auc)\n",
        "\n",
        "\n",
        "# Title\n",
        "plt.title('Extension OF The ROC Plot')\n",
        "# Axis labels\n",
        "plt.xlabel('False Positive Rate')\n",
        "plt.ylabel('True Positive Rate')\n",
        "# Show legend\n",
        "plt.legend() # \n",
        "# Show plot\n",
        "plt.show()"
      ],
      "execution_count": 42,
      "outputs": [
        {
          "output_type": "display_data",
          "data": {
            "text/plain": [
              "<Figure size 432x288 with 1 Axes>"
            ],
            "image/png": "[encoded data removed]"
          },
          "metadata": {
            "needs_background": "light"
          }
        }
      ]
    },
    {
      "cell_type": "markdown",
      "metadata": {
        "id": "qen82yXu_VFw"
      },
      "source": [
        "---"
      ]
    }
  ]
}